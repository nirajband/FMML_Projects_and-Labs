{
  "nbformat": 4,
  "nbformat_minor": 0,
  "metadata": {
    "colab": {
      "provenance": [],
      "authorship_tag": "ABX9TyM5rP4EDKbM9ZuT4bwS5rWI",
      "include_colab_link": true
    },
    "kernelspec": {
      "name": "python3",
      "display_name": "Python 3"
    },
    "language_info": {
      "name": "python"
    }
  },
  "cells": [
    {
      "cell_type": "markdown",
      "metadata": {
        "id": "view-in-github",
        "colab_type": "text"
      },
      "source": [
        "<a href=\"https://colab.research.google.com/github/nirajband/FMML_Projects_and-Labs/blob/main/Deep_Learning_A-Z_1.ipynb\" target=\"_parent\"><img src=\"https://colab.research.google.com/assets/colab-badge.svg\" alt=\"Open In Colab\"/></a>"
      ]
    },
    {
      "cell_type": "code",
      "execution_count": 1,
      "metadata": {
        "id": "wSBFJdECeYIy"
      },
      "outputs": [],
      "source": [
        "# ANN Implementation using PyTorch"
      ]
    },
    {
      "cell_type": "code",
      "source": [
        "# An Artificial Neural Network (ANN) is a computational model inspired by the way biological neural networks in the human brain process information.\n",
        "# ANNs consist of layers of interconnected nodes, where each connection has an associated weight.\n",
        "# These networks are capable of learning from data and can be used for tasks like classification and regression."
      ],
      "metadata": {
        "id": "pUrPq0IkgC5k"
      },
      "execution_count": 2,
      "outputs": []
    },
    {
      "cell_type": "code",
      "source": [
        "import zipfile\n",
        "import os\n",
        "\n",
        "# Path to the zip file\n",
        "zip_path = '/content/archive (3).zip'\n",
        "extract_path = '/content/extracted_files'\n",
        "\n",
        "# Unzip the file\n",
        "with zipfile.ZipFile(zip_path, 'r') as zip_ref:\n",
        "    zip_ref.extractall(extract_path)\n",
        "\n",
        "# List the files in the extracted directory\n",
        "extracted_files = os.listdir(extract_path)\n",
        "print(\"Extracted files:\", extracted_files)"
      ],
      "metadata": {
        "colab": {
          "base_uri": "https://localhost:8080/"
        },
        "id": "ZxbBHMKCgIgj",
        "outputId": "f923d5c7-a1ab-4a0a-97fe-5e28f87f3862"
      },
      "execution_count": 6,
      "outputs": [
        {
          "output_type": "stream",
          "name": "stdout",
          "text": [
            "Extracted files: ['Churn_Modelling.csv']\n"
          ]
        }
      ]
    },
    {
      "cell_type": "code",
      "source": [
        "import pandas as pd\n",
        "import torch\n",
        "import numpy as np\n",
        "\n",
        "# Assuming the dataset file is the first CSV in the directory\n",
        "csv_file_path = [file for file in extracted_files if file.endswith('.csv')][0]\n",
        "csv_file_path = os.path.join(extract_path, csv_file_path)\n",
        "\n",
        "# Load the dataset\n",
        "data = pd.read_csv(csv_file_path)\n",
        "\n",
        "# Check data types and handle non-numeric columns\n",
        "numeric_columns = data.select_dtypes(include=[np.number]).columns\n",
        "data = data[numeric_columns]\n",
        "\n",
        "# Assuming the dataset has features in columns and the target in the last column\n",
        "X = data.iloc[:, :-1].values\n",
        "y = data.iloc[:, -1].values\n",
        "\n",
        "# Convert to PyTorch tensors\n",
        "X_tensor = torch.tensor(X, dtype=torch.float32)\n",
        "y_tensor = torch.tensor(y, dtype=torch.float32).view(-1, 1)\n",
        "\n",
        "print(\"Data loaded and preprocessed.\")"
      ],
      "metadata": {
        "colab": {
          "base_uri": "https://localhost:8080/"
        },
        "id": "EZ852wOoiR1n",
        "outputId": "ba470269-18a1-412b-a682-0034f764f84b"
      },
      "execution_count": 11,
      "outputs": [
        {
          "output_type": "stream",
          "name": "stdout",
          "text": [
            "Data loaded and preprocessed.\n"
          ]
        }
      ]
    },
    {
      "cell_type": "code",
      "source": [
        "from torch.utils.data import DataLoader, TensorDataset\n",
        "\n",
        "# Create a DataLoader\n",
        "dataset = TensorDataset(X_tensor, y_tensor)\n",
        "dataloader = DataLoader(dataset, batch_size=32, shuffle=True)\n",
        "\n",
        "print(\"DataLoader created.\")"
      ],
      "metadata": {
        "colab": {
          "base_uri": "https://localhost:8080/"
        },
        "id": "zvP2TLZAjB8N",
        "outputId": "4605491d-07d4-4ffd-88a3-765d5105fa17"
      },
      "execution_count": 12,
      "outputs": [
        {
          "output_type": "stream",
          "name": "stdout",
          "text": [
            "DataLoader created.\n"
          ]
        }
      ]
    },
    {
      "cell_type": "code",
      "source": [
        "import torch.nn as nn\n",
        "\n",
        "# Define a simple ANN model\n",
        "class SimpleANN(nn.Module):\n",
        "    def __init__(self):\n",
        "        super(SimpleANN, self).__init__()\n",
        "        self.fc1 = nn.Linear(X.shape[1], 64)\n",
        "        self.fc2 = nn.Linear(64, 32)\n",
        "        self.fc3 = nn.Linear(32, 1)\n",
        "        self.relu = nn.ReLU()\n",
        "\n",
        "    def forward(self, x):\n",
        "        x = self.relu(self.fc1(x))\n",
        "        x = self.relu(self.fc2(x))\n",
        "        x = self.fc3(x)\n",
        "        return x\n",
        "\n",
        "# Initialize the model\n",
        "model = SimpleANN()\n",
        "print(\"Model defined.\")"
      ],
      "metadata": {
        "colab": {
          "base_uri": "https://localhost:8080/"
        },
        "id": "fZjzs7AdjGKi",
        "outputId": "a5ab67cf-fc56-4b60-8b42-2dd43501747e"
      },
      "execution_count": 13,
      "outputs": [
        {
          "output_type": "stream",
          "name": "stdout",
          "text": [
            "Model defined.\n"
          ]
        }
      ]
    },
    {
      "cell_type": "code",
      "source": [
        "import torch.optim as optim\n",
        "\n",
        "# Loss function and optimizer\n",
        "criterion = nn.MSELoss()\n",
        "optimizer = optim.Adam(model.parameters(), lr=0.001)\n",
        "\n",
        "print(\"Loss function and optimizer initialized.\")"
      ],
      "metadata": {
        "colab": {
          "base_uri": "https://localhost:8080/"
        },
        "id": "AuTMN3HgjJjv",
        "outputId": "70acb9c8-0dd3-491b-975a-eb9061802f3d"
      },
      "execution_count": 14,
      "outputs": [
        {
          "output_type": "stream",
          "name": "stdout",
          "text": [
            "Loss function and optimizer initialized.\n"
          ]
        }
      ]
    },
    {
      "cell_type": "code",
      "source": [
        "# Training loop\n",
        "num_epochs = 100\n",
        "for epoch in range(num_epochs):\n",
        "    for batch_X, batch_y in dataloader:\n",
        "        # Forward pass\n",
        "        outputs = model(batch_X)\n",
        "        loss = criterion(outputs, batch_y)\n",
        "\n",
        "        # Backward pass and optimization\n",
        "        optimizer.zero_grad()\n",
        "        loss.backward()\n",
        "        optimizer.step()\n",
        "\n",
        "    if (epoch+1) % 10 == 0:\n",
        "        print(f'Epoch [{epoch+1}/{num_epochs}], Loss: {loss.item():.4f}')\n",
        "\n",
        "print(\"Training complete.\")"
      ],
      "metadata": {
        "colab": {
          "base_uri": "https://localhost:8080/"
        },
        "id": "AdEG31ehjN9O",
        "outputId": "2957aa12-3684-4083-b753-d517b9f143bc"
      },
      "execution_count": 15,
      "outputs": [
        {
          "output_type": "stream",
          "name": "stdout",
          "text": [
            "Epoch [10/100], Loss: 26767.0117\n",
            "Epoch [20/100], Loss: 119271984.0000\n",
            "Epoch [30/100], Loss: 834498.2500\n",
            "Epoch [40/100], Loss: 8682.0508\n",
            "Epoch [50/100], Loss: 171.6384\n",
            "Epoch [60/100], Loss: 284944.3125\n",
            "Epoch [70/100], Loss: 13231.5078\n",
            "Epoch [80/100], Loss: 6898.9126\n",
            "Epoch [90/100], Loss: 156.2281\n",
            "Epoch [100/100], Loss: 17.9645\n",
            "Training complete.\n"
          ]
        }
      ]
    }
  ]
}