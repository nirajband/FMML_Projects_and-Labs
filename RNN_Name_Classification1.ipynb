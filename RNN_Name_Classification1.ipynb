{
  "nbformat": 4,
  "nbformat_minor": 0,
  "metadata": {
    "colab": {
      "provenance": [],
      "authorship_tag": "ABX9TyPDfhozD8NUd4zJQWxZc3ML",
      "include_colab_link": true
    },
    "kernelspec": {
      "name": "python3",
      "display_name": "Python 3"
    },
    "language_info": {
      "name": "python"
    }
  },
  "cells": [
    {
      "cell_type": "markdown",
      "metadata": {
        "id": "view-in-github",
        "colab_type": "text"
      },
      "source": [
        "<a href=\"https://colab.research.google.com/github/nirajband/FMML_Projects_and-Labs/blob/main/RNN_Name_Classification1.ipynb\" target=\"_parent\"><img src=\"https://colab.research.google.com/assets/colab-badge.svg\" alt=\"Open In Colab\"/></a>"
      ]
    },
    {
      "cell_type": "code",
      "source": [
        "# Recurrent Neural Network (RNN) for sequential data processing."
      ],
      "metadata": {
        "id": "ff_nQLQ5xWPK"
      },
      "execution_count": 19,
      "outputs": []
    },
    {
      "cell_type": "code",
      "source": [
        "# RNNs are designed to process sequential data by maintaining a hidden state\n",
        "# that captures information about previous inputs. They are widely used in tasks\n",
        "# like language modeling, time series prediction, and sequential decision making.\n"
      ],
      "metadata": {
        "id": "QcVc3XJixfdi"
      },
      "execution_count": 20,
      "outputs": []
    },
    {
      "cell_type": "code",
      "source": [
        "import os\n",
        "import zipfile\n",
        "import pandas as pd\n",
        "\n",
        "# Define the path to your zip file and the directory where you want to extract it\n",
        "zip_file_path = '/content/archive (2).zip'\n",
        "extract_to_directory = '/content/extracted'\n",
        "\n",
        "# Ensure the extraction directory exists\n",
        "os.makedirs(extract_to_directory, exist_ok=True)\n",
        "\n",
        "# Unzip the file\n",
        "with zipfile.ZipFile(zip_file_path, 'r') as zip_ref:\n",
        "    zip_ref.extractall(extract_to_directory)\n",
        "\n",
        "# List all files under the extracted directory\n",
        "print(\"Extracted files:\")\n",
        "for dirname, _, filenames in os.walk(extract_to_directory):\n",
        "    for filename in filenames:\n",
        "        print(os.path.join(dirname, filename))\n",
        "\n",
        "# Assuming there is a single CSV file, we'll load it dynamically.\n",
        "# If there are multiple CSV files, you may need to specify the correct one.\n",
        "csv_files = [f for f in os.listdir(extract_to_directory) if f.endswith('.csv')]\n",
        "if len(csv_files) == 0:\n",
        "    print(\"No CSV file found in the extracted directory.\")\n",
        "elif len(csv_files) > 1:\n",
        "    print(\"Multiple CSV files found. Please specify the correct one.\")\n",
        "    print(csv_files)\n",
        "else:\n",
        "    csv_file_path = os.path.join(extract_to_directory, csv_files[0])\n",
        "\n",
        "    # Load the CSV file into a pandas DataFrame\n",
        "    data = pd.read_csv(csv_file_path)\n",
        "\n",
        "    # Display the first few rows of the dataset\n",
        "    print(data.head())"
      ],
      "metadata": {
        "colab": {
          "base_uri": "https://localhost:8080/"
        },
        "id": "LBdbQo2piICe",
        "outputId": "a32e9db7-ca5e-4df1-e852-1ac0975eb2bb"
      },
      "execution_count": 5,
      "outputs": [
        {
          "output_type": "stream",
          "name": "stdout",
          "text": [
            "Extracted files:\n",
            "/content/extracted/Scottish.txt\n",
            "/content/extracted/Japanese.txt\n",
            "/content/extracted/Russian.txt\n",
            "/content/extracted/Spanish.txt\n",
            "/content/extracted/Chinese.txt\n",
            "/content/extracted/Irish.txt\n",
            "/content/extracted/Korean.txt\n",
            "/content/extracted/Czech.txt\n",
            "/content/extracted/Greek.txt\n",
            "/content/extracted/Italian.txt\n",
            "/content/extracted/Polish.txt\n",
            "/content/extracted/English.txt\n",
            "/content/extracted/Vietnamese.txt\n",
            "/content/extracted/Arabic.txt\n",
            "/content/extracted/Portuguese.txt\n",
            "/content/extracted/French.txt\n",
            "/content/extracted/German.txt\n",
            "/content/extracted/Dutch.txt\n",
            "No CSV file found in the extracted directory.\n"
          ]
        }
      ]
    },
    {
      "cell_type": "code",
      "source": [
        "import os\n",
        "import zipfile\n",
        "import glob\n",
        "import unicodedata\n",
        "import string\n",
        "\n",
        "# Define the path to your zip file and the directory where you want to extract it\n",
        "zip_file_path = '/content/archive (2).zip'\n",
        "extract_to_directory = '/content/extracted'\n",
        "\n",
        "# Ensure the extraction directory exists\n",
        "os.makedirs(extract_to_directory, exist_ok=True)\n",
        "\n",
        "# Unzip the file\n",
        "with zipfile.ZipFile(zip_file_path, 'r') as zip_ref:\n",
        "    zip_ref.extractall(extract_to_directory)\n",
        "\n",
        "# Function to find all text files in the extracted directory\n",
        "def findFiles(path):\n",
        "    return glob.glob(path)\n",
        "\n",
        "print(findFiles(os.path.join(extract_to_directory, '*.txt')))\n",
        "\n",
        "# ASCII characters and the normalization function\n",
        "all_letters = string.ascii_letters + \" .,;'\"\n",
        "n_letters = len(all_letters)\n",
        "\n",
        "def unicodeToAscii(s):\n",
        "    return ''.join(\n",
        "        c for c in unicodedata.normalize('NFD', s)\n",
        "        if unicodedata.category(c) != 'Mn'\n",
        "        and c in all_letters\n",
        "    )\n",
        "\n",
        "print(unicodeToAscii('Ślusàrski'))\n",
        "\n",
        "# Build the category_lines dictionary, a list of names per language\n",
        "category_lines = {}\n",
        "all_categories = []\n",
        "\n",
        "# Read a file and split into lines\n",
        "def readLines(filename):\n",
        "    lines = open(filename, encoding='utf-8').read().strip().split('\\n')\n",
        "    return [unicodeToAscii(line) for line in lines]\n",
        "\n",
        "# Use the findFiles function to get all .txt files from the extracted directory\n",
        "for filename in findFiles(os.path.join(extract_to_directory, '*.txt')):\n",
        "    category = os.path.splitext(os.path.basename(filename))[0]\n",
        "    all_categories.append(category)\n",
        "    lines = readLines(filename)\n",
        "    category_lines[category] = lines\n",
        "\n",
        "n_categories = len(all_categories)\n",
        "\n",
        "print(\"Categories:\", all_categories)\n",
        "print(\"Number of categories:\", n_categories)\n",
        "print(\"Sample data from 'English':\", category_lines.get('English', [])[:5])  # Adjust 'English' to any other category you know exists"
      ],
      "metadata": {
        "colab": {
          "base_uri": "https://localhost:8080/"
        },
        "id": "WslgBXcmouya",
        "outputId": "d580c063-2765-4959-b963-17e5aa6027a5"
      },
      "execution_count": 6,
      "outputs": [
        {
          "output_type": "stream",
          "name": "stdout",
          "text": [
            "['/content/extracted/Scottish.txt', '/content/extracted/Japanese.txt', '/content/extracted/Russian.txt', '/content/extracted/Spanish.txt', '/content/extracted/Chinese.txt', '/content/extracted/Irish.txt', '/content/extracted/Korean.txt', '/content/extracted/Czech.txt', '/content/extracted/Greek.txt', '/content/extracted/Italian.txt', '/content/extracted/Polish.txt', '/content/extracted/English.txt', '/content/extracted/Vietnamese.txt', '/content/extracted/Arabic.txt', '/content/extracted/Portuguese.txt', '/content/extracted/French.txt', '/content/extracted/German.txt', '/content/extracted/Dutch.txt']\n",
            "Slusarski\n",
            "Categories: ['Scottish', 'Japanese', 'Russian', 'Spanish', 'Chinese', 'Irish', 'Korean', 'Czech', 'Greek', 'Italian', 'Polish', 'English', 'Vietnamese', 'Arabic', 'Portuguese', 'French', 'German', 'Dutch']\n",
            "Number of categories: 18\n",
            "Sample data from 'English': ['Abbas', 'Abbey', 'Abbott', 'Abdi', 'Abel']\n"
          ]
        }
      ]
    },
    {
      "cell_type": "code",
      "source": [
        "import string\n",
        "\n",
        "all_letters = string.ascii_letters + \" .,;'\"\n",
        "\n",
        "# Find the index of 'a' in all_letters\n",
        "index_of_a = all_letters.find('a')\n",
        "\n",
        "print(\"Index of 'a' in all_letters:\", index_of_a)"
      ],
      "metadata": {
        "colab": {
          "base_uri": "https://localhost:8080/"
        },
        "id": "w78SrT_Wq5T6",
        "outputId": "175db6f2-3b3a-4310-b9bc-a0be0543b91d"
      },
      "execution_count": 7,
      "outputs": [
        {
          "output_type": "stream",
          "name": "stdout",
          "text": [
            "Index of 'a' in all_letters: 0\n"
          ]
        }
      ]
    },
    {
      "cell_type": "code",
      "source": [
        "import torch\n",
        "import string\n",
        "\n",
        "# Define the global variables needed\n",
        "all_letters = string.ascii_letters + \" .,;'\"\n",
        "n_letters = len(all_letters)\n",
        "\n",
        "def letterToIndex(letter):\n",
        "    \"\"\"Return the index of a letter in all_letters\"\"\"\n",
        "    return all_letters.find(letter)\n",
        "\n",
        "def letterToTensor(letter):\n",
        "    \"\"\"Convert a letter to a one-hot tensor\"\"\"\n",
        "    tensor = torch.zeros(1, n_letters)\n",
        "    tensor[0][letterToIndex(letter)] = 1\n",
        "    return tensor\n",
        "\n",
        "def lineToTensor(line):\n",
        "    \"\"\"Convert a line of text to a one-hot tensor\"\"\"\n",
        "    tensor = torch.zeros(len(line), 1, n_letters)\n",
        "    for li, letter in enumerate(line):\n",
        "        tensor[li][0][letterToIndex(letter)] = 1\n",
        "    return tensor\n",
        "\n",
        "# Example usage:\n",
        "print(letterToTensor('J'))  # Convert 'J' to a tensor\n",
        "print(lineToTensor('Jones').size())  # Convert 'Jones' to a tensor and print its size"
      ],
      "metadata": {
        "colab": {
          "base_uri": "https://localhost:8080/"
        },
        "id": "Mv4SprulrNto",
        "outputId": "872759c9-f107-4cc3-f303-c588370934ee"
      },
      "execution_count": 8,
      "outputs": [
        {
          "output_type": "stream",
          "name": "stdout",
          "text": [
            "tensor([[0., 0., 0., 0., 0., 0., 0., 0., 0., 0., 0., 0., 0., 0., 0., 0., 0., 0.,\n",
            "         0., 0., 0., 0., 0., 0., 0., 0., 0., 0., 0., 0., 0., 0., 0., 0., 0., 1.,\n",
            "         0., 0., 0., 0., 0., 0., 0., 0., 0., 0., 0., 0., 0., 0., 0., 0., 0., 0.,\n",
            "         0., 0., 0.]])\n",
            "torch.Size([5, 1, 57])\n"
          ]
        }
      ]
    },
    {
      "cell_type": "code",
      "source": [
        "import random\n",
        "import torch\n",
        "\n",
        "# Define the functions and variables needed\n",
        "def randomChoice(l):\n",
        "    \"\"\"Return a random element from a list `l`\"\"\"\n",
        "    return l[random.randint(0, len(l) - 1)]\n",
        "\n",
        "def randomTrainingExample():\n",
        "    \"\"\"Generate a random category, line pair along with their tensors\"\"\"\n",
        "    category = randomChoice(all_categories)\n",
        "    line = randomChoice(category_lines[category])\n",
        "    category_tensor = torch.tensor([all_categories.index(category)], dtype=torch.long)\n",
        "    line_tensor = lineToTensor(line)\n",
        "    return category, line, category_tensor, line_tensor\n",
        "\n",
        "# Generate and print 10 random training examples\n",
        "for i in range(10):\n",
        "    category, line, category_tensor, line_tensor = randomTrainingExample()\n",
        "    print('category =', category, '/ line =', line)"
      ],
      "metadata": {
        "colab": {
          "base_uri": "https://localhost:8080/"
        },
        "id": "bEJ1wk8esNsO",
        "outputId": "f793f4dc-1924-4bc6-ecf3-107769b98d33"
      },
      "execution_count": 9,
      "outputs": [
        {
          "output_type": "stream",
          "name": "stdout",
          "text": [
            "category = Russian / line = Tseizik\n",
            "category = Polish / line = Sniegowski\n",
            "category = Vietnamese / line = Ly\n",
            "category = French / line = Proulx\n",
            "category = Russian / line = Agafonov\n",
            "category = German / line = Regenbogen\n",
            "category = Japanese / line = Hamada\n",
            "category = Korean / line = Sook\n",
            "category = Irish / line = Register\n",
            "category = Spanish / line = Abana\n"
          ]
        }
      ]
    },
    {
      "cell_type": "code",
      "source": [
        "import torch\n",
        "import torch.nn as nn\n",
        "\n",
        "class RNN(nn.Module):\n",
        "    def __init__(self, input_size, hidden_size, output_size):\n",
        "        super(RNN, self).__init__()\n",
        "\n",
        "        self.hidden_size = hidden_size\n",
        "\n",
        "        self.i2h = nn.Linear(input_size + hidden_size, hidden_size)\n",
        "        self.h2o = nn.Linear(hidden_size, output_size)\n",
        "        self.softmax = nn.LogSoftmax(dim=1)\n",
        "\n",
        "    def forward(self, input, hidden):\n",
        "        combined = torch.cat((input, hidden), 1)\n",
        "        hidden = self.i2h(combined)\n",
        "        output = self.h2o(hidden)\n",
        "        output = self.softmax(output)\n",
        "\n",
        "        return output, hidden\n",
        "\n",
        "    def initHidden(self):\n",
        "        return torch.zeros(1, self.hidden_size)\n",
        "\n",
        "n_hidden = 128\n",
        "rnn = RNN(n_letters, n_hidden, n_categories)"
      ],
      "metadata": {
        "id": "ks66dZ2OstUA"
      },
      "execution_count": 11,
      "outputs": []
    },
    {
      "cell_type": "code",
      "source": [
        "input = lineToTensor('Albert')\n",
        "hidden = torch.zeros(1, n_hidden)\n",
        "\n",
        "output, next_hidden = rnn(input[0], hidden)\n",
        "print(output)"
      ],
      "metadata": {
        "colab": {
          "base_uri": "https://localhost:8080/"
        },
        "id": "-6nnwQA9uNNc",
        "outputId": "0de867b1-5d0f-42ce-ca85-3352f553bf51"
      },
      "execution_count": 12,
      "outputs": [
        {
          "output_type": "stream",
          "name": "stdout",
          "text": [
            "tensor([[-2.8619, -2.9544, -2.9310, -2.8959, -2.8088, -3.0018, -2.8335, -2.8336,\n",
            "         -2.9549, -2.8943, -2.8704, -2.8574, -2.9566, -2.9069, -2.7894, -2.8007,\n",
            "         -2.9492, -2.9607]], grad_fn=<LogSoftmaxBackward0>)\n"
          ]
        }
      ]
    },
    {
      "cell_type": "code",
      "source": [
        "def categoryFromOutput(output):\n",
        "    top_n, top_i = output.topk(1)\n",
        "    category_i = top_i[0].item()\n",
        "    return all_categories[category_i], category_i\n",
        "\n",
        "# Assuming `output` is the tensor computed from your RNN\n",
        "print(categoryFromOutput(output))"
      ],
      "metadata": {
        "colab": {
          "base_uri": "https://localhost:8080/"
        },
        "id": "IGEI_C5SuXJY",
        "outputId": "77c68a5c-0c27-4e93-efd3-afe21ca875ad"
      },
      "execution_count": 13,
      "outputs": [
        {
          "output_type": "stream",
          "name": "stdout",
          "text": [
            "('Portuguese', 14)\n"
          ]
        }
      ]
    },
    {
      "cell_type": "code",
      "source": [
        "criterion = nn.NLLLoss()"
      ],
      "metadata": {
        "id": "aMKkYrC5vRvC"
      },
      "execution_count": 14,
      "outputs": []
    },
    {
      "cell_type": "code",
      "source": [
        "learning_rate = 0.001\n",
        "\n",
        "def train(category_tensor, line_tensor):\n",
        "    hidden = rnn.initHidden()\n",
        "\n",
        "    rnn.zero_grad()\n",
        "\n",
        "    for i in range(line_tensor.size()[0]):\n",
        "        output, hidden = rnn(line_tensor[i], hidden)\n",
        "\n",
        "    loss = criterion(output, category_tensor)\n",
        "    loss.backward()\n",
        "\n",
        "    for p in rnn.parameters():\n",
        "        p.data.add_(p.grad.data, alpha=-learning_rate)\n",
        "\n",
        "    return output, loss.item()"
      ],
      "metadata": {
        "id": "qrtQ9IiFvfLN"
      },
      "execution_count": 15,
      "outputs": []
    },
    {
      "cell_type": "code",
      "source": [
        "import time\n",
        "import math\n",
        "\n",
        "n_iters = 100000\n",
        "print_every = 5000\n",
        "plot_every = 1000\n",
        "\n",
        "\n",
        "\n",
        "# Keep track of losses for plotting\n",
        "current_loss = 0\n",
        "all_losses = []\n",
        "\n",
        "def timeSince(since):\n",
        "    now = time.time()\n",
        "    s = now - since\n",
        "    m = math.floor(s / 60)\n",
        "    s -= m * 60\n",
        "    return '%dm %ds' % (m, s)\n",
        "\n",
        "start = time.time()\n",
        "\n",
        "for iter in range(1, n_iters + 1):\n",
        "    category, line, category_tensor, line_tensor = randomTrainingExample()\n",
        "    output, loss = train(category_tensor, line_tensor)\n",
        "    current_loss += loss\n",
        "\n",
        "    # Print ``iter`` number, loss, name and guess\n",
        "    if iter % print_every == 0:\n",
        "        guess, guess_i = categoryFromOutput(output)\n",
        "        correct = '✓' if guess == category else '✗ (%s)' % category\n",
        "        print('%d %d%% (%s) %.4f %s / %s %s' % (iter, iter / n_iters * 100, timeSince(start), loss, line, guess, correct))\n",
        "\n",
        "    # Add current loss avg to list of losses\n",
        "    if iter % plot_every == 0:\n",
        "        all_losses.append(current_loss / plot_every)\n",
        "        current_loss = 0"
      ],
      "metadata": {
        "colab": {
          "base_uri": "https://localhost:8080/"
        },
        "id": "VBMLkHKHvpKx",
        "outputId": "66ac7c18-c52f-4396-b704-be2632f16876"
      },
      "execution_count": 16,
      "outputs": [
        {
          "output_type": "stream",
          "name": "stdout",
          "text": [
            "5000 5% (0m 10s) 2.9213 Serafim / French ✗ (Portuguese)\n",
            "10000 10% (0m 20s) 2.8826 Ola / Japanese ✗ (Spanish)\n",
            "15000 15% (0m 31s) 2.8259 Lewerenz / German ✓\n",
            "20000 20% (0m 42s) 2.3629 Ozawa / Japanese ✓\n",
            "25000 25% (0m 51s) 2.7079 Trang / Italian ✗ (Vietnamese)\n",
            "30000 30% (1m 1s) 2.6490 Velazquez / Dutch ✗ (Spanish)\n",
            "35000 35% (1m 10s) 1.8906 Kohler / German ✓\n",
            "40000 40% (1m 19s) 2.5253 Abaturoff / Polish ✗ (Russian)\n",
            "45000 45% (1m 29s) 1.2251 Rossini / Japanese ✗ (Italian)\n",
            "50000 50% (1m 39s) 3.0464 Wiater / German ✗ (Polish)\n",
            "55000 55% (1m 48s) 2.2503 Zuniga / Japanese ✗ (Spanish)\n",
            "60000 60% (1m 57s) 2.5249 Sauvageot / Russian ✗ (French)\n",
            "65000 65% (2m 7s) 1.4491 Jian / Vietnamese ✗ (Chinese)\n",
            "70000 70% (2m 17s) 2.9414 Carey / Czech ✗ (Irish)\n",
            "75000 75% (2m 29s) 1.5835 Melendez / Spanish ✓\n",
            "80000 80% (2m 42s) 3.1202 Abl / German ✗ (Czech)\n",
            "85000 85% (2m 55s) 1.8476 Grant / German ✗ (Scottish)\n",
            "90000 90% (3m 7s) 0.1506 Amalberti / Italian ✓\n",
            "95000 95% (3m 18s) 2.5528 Havlice / French ✗ (Czech)\n",
            "100000 100% (3m 29s) 2.8496 O'Rourke / Russian ✗ (Irish)\n"
          ]
        }
      ]
    },
    {
      "cell_type": "code",
      "source": [
        "import matplotlib.pyplot as plt\n",
        "import matplotlib.ticker as ticker\n",
        "\n",
        "plt.figure()\n",
        "plt.plot(all_losses)"
      ],
      "metadata": {
        "colab": {
          "base_uri": "https://localhost:8080/",
          "height": 447
        },
        "id": "Av3nBtPbwsdf",
        "outputId": "2200f4a0-28ef-4294-a14b-5378517e1f14"
      },
      "execution_count": 17,
      "outputs": [
        {
          "output_type": "execute_result",
          "data": {
            "text/plain": [
              "[<matplotlib.lines.Line2D at 0x7e22be412980>]"
            ]
          },
          "metadata": {},
          "execution_count": 17
        },
        {
          "output_type": "display_data",
          "data": {
            "text/plain": [
              "<Figure size 640x480 with 1 Axes>"
            ],
            "image/png": "[encoded data removed]"
          },
          "metadata": {}
        }
      ]
    },
    {
      "cell_type": "code",
      "source": [
        "# Keep track of correct guesses in a confusion matrix\n",
        "confusion = torch.zeros(n_categories, n_categories)\n",
        "n_confusion = 10000\n",
        "\n",
        "# Just return an output given a line\n",
        "def evaluate(line_tensor):\n",
        "    hidden = rnn.initHidden()\n",
        "\n",
        "    for i in range(line_tensor.size()[0]):\n",
        "        output, hidden = rnn(line_tensor[i], hidden)\n",
        "\n",
        "    return output\n",
        "\n",
        "# Go through a bunch of examples and record which are correctly guessed\n",
        "for i in range(n_confusion):\n",
        "    category, line, category_tensor, line_tensor = randomTrainingExample()\n",
        "    output = evaluate(line_tensor)\n",
        "    guess, guess_i = categoryFromOutput(output)\n",
        "    category_i = all_categories.index(category)\n",
        "    confusion[category_i][guess_i] += 1\n",
        "\n",
        "# Normalize by dividing every row by its sum\n",
        "for i in range(n_categories):\n",
        "    confusion[i] = confusion[i] / confusion[i].sum()\n",
        "\n",
        "# Set up plot\n",
        "fig = plt.figure()\n",
        "ax = fig.add_subplot(111)\n",
        "cax = ax.matshow(confusion.numpy())\n",
        "fig.colorbar(cax)\n",
        "\n",
        "# Set up axes\n",
        "ax.set_xticklabels([''] + all_categories, rotation=90)\n",
        "ax.set_yticklabels([''] + all_categories)\n",
        "\n",
        "# Force label at every tick\n",
        "ax.xaxis.set_major_locator(ticker.MultipleLocator(1))\n",
        "ax.yaxis.set_major_locator(ticker.MultipleLocator(1))\n",
        "\n",
        "# sphinx_gallery_thumbnail_number = 2\n",
        "plt.show()"
      ],
      "metadata": {
        "colab": {
          "base_uri": "https://localhost:8080/",
          "height": 575
        },
        "id": "tag0LE10wxoe",
        "outputId": "af4abb40-3352-4f7d-c74a-f3cad4c9cb87"
      },
      "execution_count": 18,
      "outputs": [
        {
          "output_type": "stream",
          "name": "stderr",
          "text": [
            "<ipython-input-18-a5b341ffc3a3>:33: UserWarning: FixedFormatter should only be used together with FixedLocator\n",
            "  ax.set_xticklabels([''] + all_categories, rotation=90)\n",
            "<ipython-input-18-a5b341ffc3a3>:34: UserWarning: FixedFormatter should only be used together with FixedLocator\n",
            "  ax.set_yticklabels([''] + all_categories)\n"
          ]
        },
        {
          "output_type": "display_data",
          "data": {
            "text/plain": [
              "<Figure size 640x480 with 2 Axes>"
            ],
            "image/png": "[encoded data removed]"
          },
          "metadata": {}
        }
      ]
    }
  ]
}